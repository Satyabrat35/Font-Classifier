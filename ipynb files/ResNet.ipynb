{
 "metadata": {
  "kernelspec": {
   "name": "python3",
   "display_name": "Python 3",
   "language": "python"
  },
  "language_info": {
   "name": "python",
   "version": "3.10.13",
   "mimetype": "text/x-python",
   "codemirror_mode": {
    "name": "ipython",
    "version": 3
   },
   "pygments_lexer": "ipython3",
   "nbconvert_exporter": "python",
   "file_extension": ".py"
  },
  "kaggle": {
   "accelerator": "nvidiaTeslaT4",
   "dataSources": [
    {
     "sourceId": 8377464,
     "sourceType": "datasetVersion",
     "datasetId": 4981417
    }
   ],
   "dockerImageVersionId": 30699,
   "isInternetEnabled": true,
   "language": "python",
   "sourceType": "notebook",
   "isGpuEnabled": true
  }
 },
 "nbformat_minor": 5,
 "nbformat": 4,
 "cells": [
  {
   "cell_type": "code",
   "source": "! pip install datasets",
   "metadata": {
    "execution": {
     "iopub.status.busy": "2024-05-11T15:36:57.604632Z",
     "iopub.execute_input": "2024-05-11T15:36:57.604936Z",
     "iopub.status.idle": "2024-05-11T15:37:12.128460Z",
     "shell.execute_reply.started": "2024-05-11T15:36:57.604909Z",
     "shell.execute_reply": "2024-05-11T15:37:12.127271Z"
    },
    "trusted": true
   },
   "execution_count": 1,
   "id": "fcd7302835a6e2ad",
   "outputs": []
  },
  {
   "cell_type": "code",
   "source": "import os\nfor dirname, _, filenames in os.walk('/kaggle/input'):\n    for filename in filenames:\n        os.path.join(dirname, filename)",
   "metadata": {
    "execution": {
     "iopub.status.busy": "2024-05-11T15:37:12.130527Z",
     "iopub.execute_input": "2024-05-11T15:37:12.130830Z",
     "iopub.status.idle": "2024-05-11T15:37:12.437775Z",
     "shell.execute_reply.started": "2024-05-11T15:37:12.130802Z",
     "shell.execute_reply": "2024-05-11T15:37:12.437000Z"
    },
    "trusted": true
   },
   "execution_count": 2,
   "id": "f1e87e4fa10dc598",
   "outputs": []
  },
  {
   "cell_type": "code",
   "source": "import torch\nimport torch.nn as nn\nimport torchvision\nfrom torch.utils.data import Dataset, DataLoader, Subset, random_split\nimport torchvision.transforms as transforms\nimport os\nimport numpy as np\nimport cv2\nimport datasets\nimport pandas as pd\nfrom datasets import load_dataset, DatasetDict\nimport sklearn\nfrom sklearn.preprocessing import LabelEncoder\nfrom sklearn.metrics import precision_score, recall_score\nimport matplotlib.pyplot as plt\nfrom torchvision.utils import make_grid \nimport time",
   "metadata": {
    "execution": {
     "iopub.status.busy": "2024-05-11T15:37:12.438866Z",
     "iopub.execute_input": "2024-05-11T15:37:12.439140Z",
     "iopub.status.idle": "2024-05-11T15:37:21.514012Z",
     "shell.execute_reply.started": "2024-05-11T15:37:12.439117Z",
     "shell.execute_reply": "2024-05-11T15:37:21.512980Z"
    },
    "trusted": true
   },
   "execution_count": 3,
   "id": "253d65a3e4531b28",
   "outputs": []
  },
  {
   "cell_type": "code",
   "source": "# Device configuration\ndevice = torch.device('cuda:0' if torch.cuda.is_available() else 'cpu')\ndevice",
   "metadata": {
    "execution": {
     "iopub.status.busy": "2024-05-11T15:37:21.516368Z",
     "iopub.execute_input": "2024-05-11T15:37:21.516844Z",
     "iopub.status.idle": "2024-05-11T15:37:21.579546Z",
     "shell.execute_reply.started": "2024-05-11T15:37:21.516817Z",
     "shell.execute_reply": "2024-05-11T15:37:21.578379Z"
    },
    "trusted": true
   },
   "execution_count": 4,
   "id": "a2a39520ab3544eb",
   "outputs": []
  },
  {
   "cell_type": "code",
   "source": "# Random seed for PyTorch\ntorch.manual_seed(42)",
   "metadata": {
    "execution": {
     "iopub.status.busy": "2024-05-11T15:37:21.581038Z",
     "iopub.execute_input": "2024-05-11T15:37:21.581346Z",
     "iopub.status.idle": "2024-05-11T15:37:21.589748Z",
     "shell.execute_reply.started": "2024-05-11T15:37:21.581295Z",
     "shell.execute_reply": "2024-05-11T15:37:21.588863Z"
    },
    "trusted": true
   },
   "execution_count": 5,
   "id": "3b99f4f897129e8",
   "outputs": []
  },
  {
   "cell_type": "code",
   "source": "img_path = \"/kaggle/input/font-style/data\"\nfont_classes = os.listdir(img_path)\n# Ignore .DS_store dir\nfont_classes = font_classes\nfont_classes",
   "metadata": {
    "execution": {
     "iopub.status.busy": "2024-05-11T15:37:21.591015Z",
     "iopub.execute_input": "2024-05-11T15:37:21.591418Z",
     "iopub.status.idle": "2024-05-11T15:37:21.599484Z",
     "shell.execute_reply.started": "2024-05-11T15:37:21.591389Z",
     "shell.execute_reply": "2024-05-11T15:37:21.598474Z"
    },
    "trusted": true
   },
   "execution_count": 6,
   "id": "d5c74c2910e8c91e",
   "outputs": []
  },
  {
   "cell_type": "code",
   "source": "width, height = 500, 300\n\n# Resize image\ndef processImage(image_path):\n  orginal_img = cv2.imread(image_path)\n  # img_data = np.array(orginal_img)\n\n  # Upscale or downscale based on dimension\n  if orginal_img.shape[1] < width or orginal_img.shape[0] < height:\n    resize_img = cv2.resize(orginal_img, (width, height), interpolation= cv2.INTER_CUBIC)\n  else:\n    resize_img = cv2.resize(orginal_img, (width, height), interpolation= cv2.INTER_AREA)\n\n  return resize_img\n",
   "metadata": {
    "execution": {
     "iopub.status.busy": "2024-05-11T15:37:21.600585Z",
     "iopub.execute_input": "2024-05-11T15:37:21.600838Z",
     "iopub.status.idle": "2024-05-11T15:37:21.607027Z",
     "shell.execute_reply.started": "2024-05-11T15:37:21.600817Z",
     "shell.execute_reply": "2024-05-11T15:37:21.606285Z"
    },
    "trusted": true
   },
   "execution_count": 7,
   "id": "f526819afb0cfb56",
   "outputs": []
  },
  {
   "cell_type": "code",
   "source": "images = []\nlabels = []",
   "metadata": {
    "execution": {
     "iopub.status.busy": "2024-05-11T15:37:21.608079Z",
     "iopub.execute_input": "2024-05-11T15:37:21.608381Z",
     "iopub.status.idle": "2024-05-11T15:37:21.615684Z",
     "shell.execute_reply.started": "2024-05-11T15:37:21.608358Z",
     "shell.execute_reply": "2024-05-11T15:37:21.614789Z"
    },
    "trusted": true
   },
   "execution_count": 8,
   "id": "cef326bb2d0e8f0",
   "outputs": []
  },
  {
   "cell_type": "code",
   "source": "for font_class in font_classes:\n  # Get all the font images for specific font\n  font_dir = os.path.join(img_path, font_class)\n\n  for image_file in os.listdir(font_dir):\n      image_path = os.path.join(font_dir, image_file)\n      images.append(processImage(image_path))\n      labels.append(font_class)\n\n\n\n# Encode Labels    \nencoder = LabelEncoder()\nlabels = encoder.fit_transform(labels)\n\ndata = {'image': images, 'labels': labels}\ndf = pd.DataFrame(data)",
   "metadata": {
    "execution": {
     "iopub.status.busy": "2024-05-11T15:37:21.616925Z",
     "iopub.execute_input": "2024-05-11T15:37:21.617340Z",
     "iopub.status.idle": "2024-05-11T15:37:34.109203Z",
     "shell.execute_reply.started": "2024-05-11T15:37:21.617283Z",
     "shell.execute_reply": "2024-05-11T15:37:34.108070Z"
    },
    "trusted": true
   },
   "execution_count": 9,
   "id": "dc8b6eb4a0dcc727",
   "outputs": []
  },
  {
   "cell_type": "code",
   "source": "df.image[0].shape",
   "metadata": {
    "execution": {
     "iopub.status.busy": "2024-05-11T15:37:34.114040Z",
     "iopub.execute_input": "2024-05-11T15:37:34.114344Z",
     "iopub.status.idle": "2024-05-11T15:37:34.126340Z",
     "shell.execute_reply.started": "2024-05-11T15:37:34.114298Z",
     "shell.execute_reply": "2024-05-11T15:37:34.125464Z"
    },
    "trusted": true
   },
   "execution_count": 10,
   "id": "6f1d65339e7866fb",
   "outputs": []
  },
  {
   "cell_type": "code",
   "source": "new_df = df.copy()",
   "metadata": {
    "execution": {
     "iopub.status.busy": "2024-05-11T15:37:34.127785Z",
     "iopub.execute_input": "2024-05-11T15:37:34.128123Z",
     "iopub.status.idle": "2024-05-11T15:37:34.147731Z",
     "shell.execute_reply.started": "2024-05-11T15:37:34.128081Z",
     "shell.execute_reply": "2024-05-11T15:37:34.146729Z"
    },
    "trusted": true
   },
   "execution_count": 11,
   "id": "2cbf148b66c042fe",
   "outputs": []
  },
  {
   "cell_type": "code",
   "source": "# Convert into CxHxW format from HxWxC\nfor index, row in new_df.iterrows():\n\n    image_tensor = torch.tensor(row['image'])\n    image_tensor_permuted = image_tensor.permute(2, 0, 1)\n\n    new_df.at[index, 'image'] = image_tensor_permuted.numpy()",
   "metadata": {
    "execution": {
     "iopub.status.busy": "2024-05-11T15:37:34.148785Z",
     "iopub.execute_input": "2024-05-11T15:37:34.149138Z",
     "iopub.status.idle": "2024-05-11T15:37:34.795404Z",
     "shell.execute_reply.started": "2024-05-11T15:37:34.149114Z",
     "shell.execute_reply": "2024-05-11T15:37:34.794359Z"
    },
    "trusted": true
   },
   "execution_count": 12,
   "id": "97ed15e5fd0680e3",
   "outputs": []
  },
  {
   "cell_type": "code",
   "source": "new_df.image[0].shape",
   "metadata": {
    "execution": {
     "iopub.status.busy": "2024-05-11T15:37:34.796726Z",
     "iopub.execute_input": "2024-05-11T15:37:34.797054Z",
     "iopub.status.idle": "2024-05-11T15:37:34.803468Z",
     "shell.execute_reply.started": "2024-05-11T15:37:34.797027Z",
     "shell.execute_reply": "2024-05-11T15:37:34.802547Z"
    },
    "trusted": true
   },
   "execution_count": 13,
   "id": "2dc61fefc22f8b9b",
   "outputs": []
  },
  {
   "cell_type": "code",
   "source": "# Custom dataset for DataLoader\nclass CustomDataset(Dataset):\n    def __init__(self, dataframe):\n        self.data = dataframe\n\n    def __len__(self):\n        return len(self.data)\n\n    def __getitem__(self, idx):\n        image = self.data.iloc[idx]['image']\n        label = self.data.iloc[idx]['labels']\n        return image, label",
   "metadata": {
    "execution": {
     "iopub.status.busy": "2024-05-11T15:37:34.804791Z",
     "iopub.execute_input": "2024-05-11T15:37:34.805489Z",
     "iopub.status.idle": "2024-05-11T15:37:34.812227Z",
     "shell.execute_reply.started": "2024-05-11T15:37:34.805453Z",
     "shell.execute_reply": "2024-05-11T15:37:34.811354Z"
    },
    "trusted": true
   },
   "execution_count": 14,
   "id": "17613f464d1fc23f",
   "outputs": []
  },
  {
   "cell_type": "code",
   "source": "custom_dataset = CustomDataset(new_df)",
   "metadata": {
    "execution": {
     "iopub.status.busy": "2024-05-11T15:37:34.813334Z",
     "iopub.execute_input": "2024-05-11T15:37:34.813605Z",
     "iopub.status.idle": "2024-05-11T15:37:34.820877Z",
     "shell.execute_reply.started": "2024-05-11T15:37:34.813583Z",
     "shell.execute_reply": "2024-05-11T15:37:34.820114Z"
    },
    "trusted": true
   },
   "execution_count": 15,
   "id": "c123cf7f5c1a5fd9",
   "outputs": []
  },
  {
   "cell_type": "code",
   "source": "# Parameters\nepochs = 5\nbatch_size = 32\nlearning_rate = 0.01",
   "metadata": {
    "execution": {
     "iopub.status.busy": "2024-05-11T15:37:34.821968Z",
     "iopub.execute_input": "2024-05-11T15:37:34.822287Z",
     "iopub.status.idle": "2024-05-11T15:37:34.831131Z",
     "shell.execute_reply.started": "2024-05-11T15:37:34.822254Z",
     "shell.execute_reply": "2024-05-11T15:37:34.830350Z"
    },
    "trusted": true
   },
   "execution_count": 16,
   "id": "5eeea02004c30f0a",
   "outputs": []
  },
  {
   "cell_type": "code",
   "source": "all_data_loader = torch.utils.data.DataLoader(custom_dataset, batch_size=batch_size, shuffle=True)",
   "metadata": {
    "execution": {
     "iopub.status.busy": "2024-05-11T15:37:34.832080Z",
     "iopub.execute_input": "2024-05-11T15:37:34.832333Z",
     "iopub.status.idle": "2024-05-11T15:37:34.840068Z",
     "shell.execute_reply.started": "2024-05-11T15:37:34.832291Z",
     "shell.execute_reply": "2024-05-11T15:37:34.839345Z"
    },
    "trusted": true
   },
   "execution_count": 17,
   "id": "36c784f85f4dfc",
   "outputs": []
  },
  {
   "cell_type": "code",
   "source": "# Split into train test validation\ntotal_size = new_df.shape[0]\ntrain_size = int(0.7 * total_size)\ntest_size = int(0.15 * total_size)\nvalidation_size = total_size - train_size - test_size",
   "metadata": {
    "execution": {
     "iopub.status.busy": "2024-05-11T15:37:34.841159Z",
     "iopub.execute_input": "2024-05-11T15:37:34.842134Z",
     "iopub.status.idle": "2024-05-11T15:37:34.850063Z",
     "shell.execute_reply.started": "2024-05-11T15:37:34.842108Z",
     "shell.execute_reply": "2024-05-11T15:37:34.849226Z"
    },
    "trusted": true
   },
   "execution_count": 18,
   "id": "eab941a1b5295bd",
   "outputs": []
  },
  {
   "cell_type": "code",
   "source": "train_set, test_set, validation_set = torch.utils.data.random_split(all_data_loader.dataset, [train_size, test_size, validation_size])",
   "metadata": {
    "execution": {
     "iopub.status.busy": "2024-05-11T15:37:34.852003Z",
     "iopub.execute_input": "2024-05-11T15:37:34.852607Z",
     "iopub.status.idle": "2024-05-11T15:37:34.872063Z",
     "shell.execute_reply.started": "2024-05-11T15:37:34.852577Z",
     "shell.execute_reply": "2024-05-11T15:37:34.871288Z"
    },
    "trusted": true
   },
   "execution_count": 19,
   "id": "f5cddbd12749ed4f",
   "outputs": []
  },
  {
   "cell_type": "code",
   "source": "train_loader = DataLoader(train_set, batch_size=batch_size, shuffle=True)\ntest_loader = DataLoader(test_set, batch_size=batch_size, shuffle=False)\nvalidation_loader = DataLoader(validation_set, batch_size=batch_size, shuffle=False)",
   "metadata": {
    "execution": {
     "iopub.status.busy": "2024-05-11T15:37:34.873015Z",
     "iopub.execute_input": "2024-05-11T15:37:34.873271Z",
     "iopub.status.idle": "2024-05-11T15:37:34.878071Z",
     "shell.execute_reply.started": "2024-05-11T15:37:34.873250Z",
     "shell.execute_reply": "2024-05-11T15:37:34.877177Z"
    },
    "trusted": true
   },
   "execution_count": 20,
   "id": "e55b2629930fac42",
   "outputs": []
  },
  {
   "cell_type": "code",
   "source": "# Show data for 1st batch\ndef batchImages(data):\n    for images, labels in data:\n        fig, ax = plt.subplots(figsize=(30, 30))\n        ax.set_xticks([]); ax.set_yticks([])\n        ax.imshow(make_grid(images, nrow=8).permute(1, 2, 0))\n        break",
   "metadata": {
    "execution": {
     "iopub.status.busy": "2024-05-11T15:37:34.879066Z",
     "iopub.execute_input": "2024-05-11T15:37:34.879373Z",
     "iopub.status.idle": "2024-05-11T15:37:34.885926Z",
     "shell.execute_reply.started": "2024-05-11T15:37:34.879345Z",
     "shell.execute_reply": "2024-05-11T15:37:34.885032Z"
    },
    "trusted": true
   },
   "execution_count": 21,
   "id": "2320c6275d1d1a3a",
   "outputs": []
  },
  {
   "cell_type": "code",
   "source": "batchImages(train_loader)",
   "metadata": {
    "execution": {
     "iopub.status.busy": "2024-05-11T15:37:34.887028Z",
     "iopub.execute_input": "2024-05-11T15:37:34.887387Z",
     "iopub.status.idle": "2024-05-11T15:37:36.475051Z",
     "shell.execute_reply.started": "2024-05-11T15:37:34.887357Z",
     "shell.execute_reply": "2024-05-11T15:37:36.473966Z"
    },
    "trusted": true
   },
   "execution_count": 22,
   "id": "3c22318aa614d780",
   "outputs": []
  },
  {
   "cell_type": "code",
   "source": "# ResNet model -- adding dropout before final layer\nmodel = torchvision.models.resnet18()\nfeatures = model.fc.in_features\nmodel.fc = nn.Sequential(\n    nn.Dropout(0.5),\n    nn.Linear(features, 10)\n)",
   "metadata": {
    "execution": {
     "iopub.status.busy": "2024-05-11T15:37:36.476136Z",
     "iopub.execute_input": "2024-05-11T15:37:36.476452Z",
     "iopub.status.idle": "2024-05-11T15:37:36.711540Z",
     "shell.execute_reply.started": "2024-05-11T15:37:36.476424Z",
     "shell.execute_reply": "2024-05-11T15:37:36.710731Z"
    },
    "trusted": true
   },
   "execution_count": 23,
   "id": "9a98b9520d61072f",
   "outputs": []
  },
  {
   "cell_type": "code",
   "source": "# Loss and Optimizer\ncriterion = nn.CrossEntropyLoss()\n# optimizer = torch.optim.Adam(model.parameters(), lr=learning_rate)\noptimizer = torch.optim.SGD(model.parameters(), lr=0.001, momentum=0.9)",
   "metadata": {
    "execution": {
     "iopub.status.busy": "2024-05-11T15:37:36.712656Z",
     "iopub.execute_input": "2024-05-11T15:37:36.712925Z",
     "iopub.status.idle": "2024-05-11T15:37:36.720343Z",
     "shell.execute_reply.started": "2024-05-11T15:37:36.712903Z",
     "shell.execute_reply": "2024-05-11T15:37:36.719352Z"
    },
    "trusted": true
   },
   "execution_count": 24,
   "id": "79a8a222615ec5b3",
   "outputs": []
  },
  {
   "cell_type": "code",
   "source": "# Model train\nsteps = new_df.shape[0]\nepoch_times = []\nmodel.to(device)\nprint(f'device -> {device}')\n\nfor epoch in range(epochs):\n  model.train()\n  train_loss = 0\n    \n  start_time = time.time()\n\n  for image, label in train_loader:\n    image = image.to(device).float()\n    label = label.to(device)\n    # image = image.to(torch.float32)\n    \n    optimizer.zero_grad()\n    # print(image.size())\n    \n    output = model(image)\n    loss = criterion(output, label)\n\n    \n    loss.backward()\n    optimizer.step()\n\n    # loss.item() -> avg loss per batch, so scale the loss\n    train_loss += loss.item() * image.size(0)\n\n  train_loss = train_loss / steps\n\n  model.eval()\n  val_loss = 0\n\n  with torch.no_grad():\n    for image, label in validation_loader:\n      image = image.to(device).float()\n      label = label.to(device)\n      # image = image.to(torch.float32)\n      output = model(image)\n\n      loss = criterion(output, label)\n      val_loss += loss.item() * image.size(0)\n\n  val_loss = val_loss / steps\n\n  end_time = time.time()  \n  epoch_time = end_time - start_time  \n  epoch_times.append(epoch_time)\n\n  print(f'Epoch [{epoch+1}/{epochs}], Train Loss: {train_loss:.4f}, Validation Loss: {val_loss:.4f}, Epoch Time: {epoch_time:.2f} seconds')\n\naverage_epoch_time = sum(epoch_times) / len(epoch_times)\nprint(f'Average Epoch Time: {average_epoch_time:.2f} seconds')",
   "metadata": {
    "execution": {
     "iopub.status.busy": "2024-05-11T15:38:09.070850Z",
     "iopub.execute_input": "2024-05-11T15:38:09.071692Z",
     "iopub.status.idle": "2024-05-11T15:39:04.345878Z",
     "shell.execute_reply.started": "2024-05-11T15:38:09.071652Z",
     "shell.execute_reply": "2024-05-11T15:39:04.344820Z"
    },
    "trusted": true
   },
   "execution_count": 26,
   "id": "728110c0186cc255",
   "outputs": []
  },
  {
   "cell_type": "code",
   "source": "# Test mode\nmodel.eval()\npreds = []\ntrue_labels = []\n\nstart_time = time.time()\n\nwith torch.no_grad():\n  correct_pred = 0\n  total_pred = 0\n\n  for image, label in test_loader:\n    image = image.to(device).float()\n    label = label.to(device)\n    output = model(image)\n\n    values, prediction = torch.max(output.data, 1)\n    # preds.append(prediction)\n    \n    # Add the batch size to total_pred\n    total_pred += label.size(0)\n    correct_pred += (prediction == label).sum().item()\n    \n    # scikit learn functions operate on cpu tensor\n    preds.extend(prediction.cpu().numpy())\n    true_labels.extend(label.cpu().numpy())\n\n  \nend_time = time.time()  \nevaluation_time = end_time - start_time\n\nprecision = precision_score(true_labels, preds, average=None)\nrecall = recall_score(true_labels, preds, average=None)\n\nprint(f'Accuracy -> {100*correct_pred / total_pred}%, Evaluation Time -> {evaluation_time:.2f} seconds')",
   "metadata": {
    "execution": {
     "iopub.status.busy": "2024-05-11T15:39:57.153532Z",
     "iopub.execute_input": "2024-05-11T15:39:57.154227Z",
     "iopub.status.idle": "2024-05-11T15:39:57.938111Z",
     "shell.execute_reply.started": "2024-05-11T15:39:57.154189Z",
     "shell.execute_reply": "2024-05-11T15:39:57.937155Z"
    },
    "trusted": true
   },
   "execution_count": 28,
   "id": "bdc9d7aad7a944c3",
   "outputs": []
  },
  {
   "cell_type": "code",
   "source": "# Precision and Recall for each class\nprint(f'Precision -> {precision}')\nprint(f'Recall -> {recall}')",
   "metadata": {
    "execution": {
     "iopub.status.busy": "2024-05-11T15:37:38.154231Z",
     "iopub.status.idle": "2024-05-11T15:37:38.154761Z",
     "shell.execute_reply.started": "2024-05-11T15:37:38.154500Z",
     "shell.execute_reply": "2024-05-11T15:37:38.154523Z"
    },
    "trusted": true
   },
   "execution_count": null,
   "id": "759055e1028845c9",
   "outputs": []
  },
  {
   "cell_type": "code",
   "source": "# save model\ntorch.save(model.state_dict(), 'resnet.ckpt')",
   "metadata": {
    "execution": {
     "iopub.status.busy": "2024-05-11T15:37:38.156472Z",
     "iopub.status.idle": "2024-05-11T15:37:38.156823Z",
     "shell.execute_reply.started": "2024-05-11T15:37:38.156656Z",
     "shell.execute_reply": "2024-05-11T15:37:38.156671Z"
    },
    "trusted": true
   },
   "execution_count": null,
   "id": "77c527717c827ca7",
   "outputs": []
  }
 ]
}
