{
 "metadata": {
  "kernelspec": {
   "language": "python",
   "display_name": "Python 3",
   "name": "python3"
  },
  "language_info": {
   "name": "python",
   "version": "3.10.13",
   "mimetype": "text/x-python",
   "codemirror_mode": {
    "name": "ipython",
    "version": 3
   },
   "pygments_lexer": "ipython3",
   "nbconvert_exporter": "python",
   "file_extension": ".py"
  },
  "kaggle": {
   "accelerator": "nvidiaTeslaT4",
   "dataSources": [
    {
     "sourceId": 8377464,
     "sourceType": "datasetVersion",
     "datasetId": 4981417
    }
   ],
   "dockerImageVersionId": 30699,
   "isInternetEnabled": true,
   "language": "python",
   "sourceType": "notebook",
   "isGpuEnabled": true
  }
 },
 "nbformat_minor": 4,
 "nbformat": 4,
 "cells": [
  {
   "cell_type": "code",
   "source": "! pip install datasets transformers\n! pip install accelerate -U\n! pip install datasets",
   "metadata": {
    "_uuid": "8f2839f25d086af736a60e9eeb907d3b93b6e0e5",
    "_cell_guid": "b1076dfc-b9ad-4769-8c92-a6c4dae69d19",
    "execution": {
     "iopub.status.busy": "2024-05-11T19:54:46.674309Z",
     "iopub.execute_input": "2024-05-11T19:54:46.674830Z",
     "iopub.status.idle": "2024-05-11T19:55:26.710982Z",
     "shell.execute_reply.started": "2024-05-11T19:54:46.674790Z",
     "shell.execute_reply": "2024-05-11T19:55:26.709892Z"
    },
    "trusted": true
   },
   "execution_count": 1,
   "outputs": []
  },
  {
   "cell_type": "code",
   "source": "import os\nimport numpy as np\nimport cv2\nimport datasets\nfrom datasets import load_dataset\nimport torch\nimport torch.nn as nn\nimport torchvision\nfrom torch.utils.data import Dataset, DataLoader, Subset, random_split\nimport torchvision.transforms as transforms\nimport datasets\nimport pandas as pd\nfrom datasets import load_dataset, DatasetDict, load_metric\nimport sklearn\nfrom sklearn.preprocessing import LabelEncoder\nfrom sklearn.metrics import precision_score, recall_score, accuracy_score\nimport matplotlib.pyplot as plt\nfrom torchvision.utils import make_grid \nimport time\nfrom transformers import ViTFeatureExtractor, AutoImageProcessor",
   "metadata": {
    "execution": {
     "iopub.status.busy": "2024-05-11T19:55:26.713274Z",
     "iopub.execute_input": "2024-05-11T19:55:26.714099Z",
     "iopub.status.idle": "2024-05-11T19:55:47.094644Z",
     "shell.execute_reply.started": "2024-05-11T19:55:26.714068Z",
     "shell.execute_reply": "2024-05-11T19:55:47.093817Z"
    },
    "trusted": true
   },
   "execution_count": 2,
   "outputs": []
  },
  {
   "cell_type": "code",
   "source": "# Random seed for PyTorch\ntorch.manual_seed(42)",
   "metadata": {
    "execution": {
     "iopub.status.busy": "2024-05-11T19:55:47.095839Z",
     "iopub.execute_input": "2024-05-11T19:55:47.096424Z",
     "iopub.status.idle": "2024-05-11T19:55:47.105483Z",
     "shell.execute_reply.started": "2024-05-11T19:55:47.096396Z",
     "shell.execute_reply": "2024-05-11T19:55:47.104596Z"
    },
    "trusted": true
   },
   "execution_count": 3,
   "outputs": []
  },
  {
   "cell_type": "code",
   "source": "import os\nfor dirname, _, filenames in os.walk('/kaggle/input'):\n    for filename in filenames:\n        os.path.join(dirname, filename)",
   "metadata": {
    "execution": {
     "iopub.status.busy": "2024-05-11T19:55:47.108342Z",
     "iopub.execute_input": "2024-05-11T19:55:47.109724Z",
     "iopub.status.idle": "2024-05-11T19:55:47.584677Z",
     "shell.execute_reply.started": "2024-05-11T19:55:47.109654Z",
     "shell.execute_reply": "2024-05-11T19:55:47.583734Z"
    },
    "trusted": true
   },
   "execution_count": 4,
   "outputs": []
  },
  {
   "cell_type": "code",
   "source": "# Device configuration\ndevice = torch.device('cuda:0' if torch.cuda.is_available() else 'cpu')\ndevice",
   "metadata": {
    "execution": {
     "iopub.status.busy": "2024-05-11T19:55:47.587499Z",
     "iopub.execute_input": "2024-05-11T19:55:47.587785Z",
     "iopub.status.idle": "2024-05-11T19:55:47.659025Z",
     "shell.execute_reply.started": "2024-05-11T19:55:47.587760Z",
     "shell.execute_reply": "2024-05-11T19:55:47.657921Z"
    },
    "trusted": true
   },
   "execution_count": 5,
   "outputs": []
  },
  {
   "cell_type": "code",
   "source": "# Load dataset\nimg_path = \"/kaggle/input/font-style/data\"\ndata = load_dataset(\"imagefolder\", data_dir=img_path)",
   "metadata": {
    "execution": {
     "iopub.status.busy": "2024-05-11T19:55:47.660504Z",
     "iopub.execute_input": "2024-05-11T19:55:47.661269Z",
     "iopub.status.idle": "2024-05-11T19:55:54.289136Z",
     "shell.execute_reply.started": "2024-05-11T19:55:47.661242Z",
     "shell.execute_reply": "2024-05-11T19:55:54.288346Z"
    },
    "trusted": true
   },
   "execution_count": 6,
   "outputs": []
  },
  {
   "cell_type": "code",
   "source": "# random image\ndata['train'][1001]['image']",
   "metadata": {
    "execution": {
     "iopub.status.busy": "2024-05-11T19:55:54.290255Z",
     "iopub.execute_input": "2024-05-11T19:55:54.290526Z",
     "iopub.status.idle": "2024-05-11T19:55:54.318416Z",
     "shell.execute_reply.started": "2024-05-11T19:55:54.290501Z",
     "shell.execute_reply": "2024-05-11T19:55:54.317635Z"
    },
    "trusted": true
   },
   "execution_count": 7,
   "outputs": []
  },
  {
   "cell_type": "code",
   "source": "# Generate all labels\nlabels = data['train'].features['label']\nlabels",
   "metadata": {
    "execution": {
     "iopub.status.busy": "2024-05-11T19:55:54.319549Z",
     "iopub.execute_input": "2024-05-11T19:55:54.319810Z",
     "iopub.status.idle": "2024-05-11T19:55:54.353127Z",
     "shell.execute_reply.started": "2024-05-11T19:55:54.319786Z",
     "shell.execute_reply": "2024-05-11T19:55:54.352222Z"
    },
    "trusted": true
   },
   "execution_count": 8,
   "outputs": []
  },
  {
   "cell_type": "code",
   "source": "# Split data into train, test validation --\ndata_ds = data['train'].train_test_split(shuffle = True, seed = 0, test_size=0.3)\ndata_test_ds = data_ds['test'].train_test_split(shuffle = True, seed = 0, test_size=0.5)\n\nfinal_dataset = DatasetDict({\n    'train': data_ds['train'],\n    'validation': data_test_ds['train'],\n    'test': data_test_ds['test']\n})\nfinal_dataset",
   "metadata": {
    "execution": {
     "iopub.status.busy": "2024-05-11T19:55:54.354210Z",
     "iopub.execute_input": "2024-05-11T19:55:54.354487Z",
     "iopub.status.idle": "2024-05-11T19:55:54.479539Z",
     "shell.execute_reply.started": "2024-05-11T19:55:54.354447Z",
     "shell.execute_reply": "2024-05-11T19:55:54.478726Z"
    },
    "trusted": true
   },
   "execution_count": 9,
   "outputs": []
  },
  {
   "cell_type": "code",
   "source": "model_path = 'google/vit-base-patch16-224-in21k'\nfeature_extractor = ViTFeatureExtractor.from_pretrained(model_path)",
   "metadata": {
    "execution": {
     "iopub.status.busy": "2024-05-11T19:55:54.482326Z",
     "iopub.execute_input": "2024-05-11T19:55:54.482593Z",
     "iopub.status.idle": "2024-05-11T19:55:54.655307Z",
     "shell.execute_reply.started": "2024-05-11T19:55:54.482570Z",
     "shell.execute_reply": "2024-05-11T19:55:54.654440Z"
    },
    "trusted": true
   },
   "execution_count": 10,
   "outputs": []
  },
  {
   "cell_type": "code",
   "source": "# final_dataset have raw images, convert into embeddings\ndef transform(batch):\n    inputs = feature_extractor([x for x in batch['image']], return_tensors='pt')\n    inputs['label'] = batch['label']\n    return inputs\n\nprepared_ds = final_dataset.with_transform(transform)",
   "metadata": {
    "execution": {
     "iopub.status.busy": "2024-05-11T19:55:54.656423Z",
     "iopub.execute_input": "2024-05-11T19:55:54.656694Z",
     "iopub.status.idle": "2024-05-11T19:55:54.707628Z",
     "shell.execute_reply.started": "2024-05-11T19:55:54.656671Z",
     "shell.execute_reply": "2024-05-11T19:55:54.706783Z"
    },
    "trusted": true
   },
   "execution_count": 11,
   "outputs": []
  },
  {
   "cell_type": "code",
   "source": "prepared_ds",
   "metadata": {
    "execution": {
     "iopub.status.busy": "2024-05-11T19:55:54.709089Z",
     "iopub.execute_input": "2024-05-11T19:55:54.709343Z",
     "iopub.status.idle": "2024-05-11T19:55:54.715146Z",
     "shell.execute_reply.started": "2024-05-11T19:55:54.709321Z",
     "shell.execute_reply": "2024-05-11T19:55:54.714238Z"
    },
    "trusted": true
   },
   "execution_count": 12,
   "outputs": []
  },
  {
   "cell_type": "code",
   "source": "prepared_ds['train'].features",
   "metadata": {
    "execution": {
     "iopub.status.busy": "2024-05-11T19:55:54.716311Z",
     "iopub.execute_input": "2024-05-11T19:55:54.716577Z",
     "iopub.status.idle": "2024-05-11T19:55:54.724556Z",
     "shell.execute_reply.started": "2024-05-11T19:55:54.716554Z",
     "shell.execute_reply": "2024-05-11T19:55:54.723678Z"
    },
    "trusted": true
   },
   "execution_count": 13,
   "outputs": []
  },
  {
   "cell_type": "code",
   "source": "def collateFunction(batch):\n    return {\n        'pixel_values': torch.stack([x['pixel_values'] for x in batch]),\n        'labels': torch.tensor([x['label'] for x in batch])\n    }",
   "metadata": {
    "execution": {
     "iopub.status.busy": "2024-05-11T19:55:54.725674Z",
     "iopub.execute_input": "2024-05-11T19:55:54.726261Z",
     "iopub.status.idle": "2024-05-11T19:55:54.733459Z",
     "shell.execute_reply.started": "2024-05-11T19:55:54.726228Z",
     "shell.execute_reply": "2024-05-11T19:55:54.732544Z"
    },
    "trusted": true
   },
   "execution_count": 14,
   "outputs": []
  },
  {
   "cell_type": "code",
   "source": "metric = load_metric(\"accuracy\")\n\n# compute accuracy\ndef computeMetrics(p):\n    return metric.compute(predictions=np.argmax(p.predictions, axis=1), references=p.label_ids)",
   "metadata": {
    "execution": {
     "iopub.status.busy": "2024-05-11T19:55:54.734544Z",
     "iopub.execute_input": "2024-05-11T19:55:54.735144Z",
     "iopub.status.idle": "2024-05-11T19:55:55.078577Z",
     "shell.execute_reply.started": "2024-05-11T19:55:54.735113Z",
     "shell.execute_reply": "2024-05-11T19:55:55.077675Z"
    },
    "trusted": true
   },
   "execution_count": 15,
   "outputs": []
  },
  {
   "cell_type": "code",
   "source": "# ViT for Image classification model\nfrom transformers import ViTForImageClassification\nfrom transformers import AutoImageProcessor\n\n\nlabels = prepared_ds['train'].features['label'].names\n\nmodel = ViTForImageClassification.from_pretrained(\n    model_path,\n    num_labels=len(labels),\n    id2label={str(i): c for i, c in enumerate(labels)},\n    label2id={c: str(i) for i, c in enumerate(labels)}\n)",
   "metadata": {
    "execution": {
     "iopub.status.busy": "2024-05-11T19:55:55.079706Z",
     "iopub.execute_input": "2024-05-11T19:55:55.079992Z",
     "iopub.status.idle": "2024-05-11T19:55:57.918966Z",
     "shell.execute_reply.started": "2024-05-11T19:55:55.079968Z",
     "shell.execute_reply": "2024-05-11T19:55:57.918161Z"
    },
    "trusted": true
   },
   "execution_count": 16,
   "outputs": []
  },
  {
   "cell_type": "code",
   "source": "from transformers import TrainingArguments\n\ntraining_args = TrainingArguments(\n  output_dir=\"./vit-base\",\n  per_device_train_batch_size=16,\n  evaluation_strategy=\"steps\",\n  num_train_epochs=5,\n  save_steps=100,\n  eval_steps=100,\n  logging_steps=10,\n  learning_rate=2e-4,\n  save_total_limit=2,\n  remove_unused_columns=False,\n  push_to_hub=False,\n  report_to='tensorboard',\n  load_best_model_at_end=True,\n)",
   "metadata": {
    "execution": {
     "iopub.status.busy": "2024-05-11T19:55:57.920249Z",
     "iopub.execute_input": "2024-05-11T19:55:57.920646Z",
     "iopub.status.idle": "2024-05-11T19:55:57.999796Z",
     "shell.execute_reply.started": "2024-05-11T19:55:57.920595Z",
     "shell.execute_reply": "2024-05-11T19:55:57.999090Z"
    },
    "trusted": true
   },
   "execution_count": 17,
   "outputs": []
  },
  {
   "cell_type": "code",
   "source": "from transformers import Trainer\ntrainer = Trainer(\n    model=model,\n    args=training_args,\n    data_collator=collateFunction,\n    compute_metrics=computeMetrics,\n    train_dataset=prepared_ds[\"train\"],\n    eval_dataset=prepared_ds[\"validation\"],\n    tokenizer=feature_extractor,\n)",
   "metadata": {
    "execution": {
     "iopub.status.busy": "2024-05-11T19:55:58.000782Z",
     "iopub.execute_input": "2024-05-11T19:55:58.001072Z",
     "iopub.status.idle": "2024-05-11T19:55:58.326612Z",
     "shell.execute_reply.started": "2024-05-11T19:55:58.001040Z",
     "shell.execute_reply": "2024-05-11T19:55:58.325818Z"
    },
    "trusted": true
   },
   "execution_count": 18,
   "outputs": []
  },
  {
   "cell_type": "code",
   "source": "train_results = trainer.train()\ntrainer.save_model()\ntrainer.log_metrics(\"train\", train_results.metrics)\ntrainer.save_metrics(\"train\", train_results.metrics)\ntrainer.save_state()",
   "metadata": {
    "execution": {
     "iopub.status.busy": "2024-05-11T19:55:58.327914Z",
     "iopub.execute_input": "2024-05-11T19:55:58.328284Z",
     "iopub.status.idle": "2024-05-11T19:58:55.452294Z",
     "shell.execute_reply.started": "2024-05-11T19:55:58.328248Z",
     "shell.execute_reply": "2024-05-11T19:58:55.451501Z"
    },
    "trusted": true
   },
   "execution_count": 19,
   "outputs": []
  },
  {
   "cell_type": "code",
   "source": "def softmax(logits):\n    exp_logits = np.exp(logits)\n    probabilities = exp_logits / np.sum(exp_logits)\n    return probabilities",
   "metadata": {
    "execution": {
     "iopub.status.busy": "2024-05-11T19:58:55.453581Z",
     "iopub.execute_input": "2024-05-11T19:58:55.454375Z",
     "iopub.status.idle": "2024-05-11T19:58:55.458920Z",
     "shell.execute_reply.started": "2024-05-11T19:58:55.454339Z",
     "shell.execute_reply": "2024-05-11T19:58:55.457865Z"
    },
    "trusted": true
   },
   "execution_count": 20,
   "outputs": []
  },
  {
   "cell_type": "code",
   "source": "output = trainer.predict(prepared_ds['test'])",
   "metadata": {
    "execution": {
     "iopub.status.busy": "2024-05-11T20:00:01.497566Z",
     "iopub.execute_input": "2024-05-11T20:00:01.497989Z",
     "iopub.status.idle": "2024-05-11T20:00:06.493979Z",
     "shell.execute_reply.started": "2024-05-11T20:00:01.497957Z",
     "shell.execute_reply": "2024-05-11T20:00:06.493082Z"
    },
    "trusted": true
   },
   "execution_count": 22,
   "outputs": []
  },
  {
   "cell_type": "code",
   "source": "output.predictions.shape",
   "metadata": {
    "execution": {
     "iopub.status.busy": "2024-05-11T20:00:08.171976Z",
     "iopub.execute_input": "2024-05-11T20:00:08.172832Z",
     "iopub.status.idle": "2024-05-11T20:00:08.178820Z",
     "shell.execute_reply.started": "2024-05-11T20:00:08.172798Z",
     "shell.execute_reply": "2024-05-11T20:00:08.177635Z"
    },
    "trusted": true
   },
   "execution_count": 23,
   "outputs": []
  },
  {
   "cell_type": "code",
   "source": "label_ordering = prepared_ds['train'].features['label'].names\n\ntarget_labels = output.label_ids\nlogits = output.predictions\nlog_probs = softmax(logits)\nprediction_labels = np.argmax(log_probs, axis=-1)\nprint(f\"Accuracy ->  {accuracy_score(target_labels, prediction_labels)}\")",
   "metadata": {
    "execution": {
     "iopub.status.busy": "2024-05-11T20:00:10.126158Z",
     "iopub.execute_input": "2024-05-11T20:00:10.127012Z",
     "iopub.status.idle": "2024-05-11T20:00:10.134178Z",
     "shell.execute_reply.started": "2024-05-11T20:00:10.126976Z",
     "shell.execute_reply": "2024-05-11T20:00:10.133146Z"
    },
    "trusted": true
   },
   "execution_count": 24,
   "outputs": []
  }
 ]
}
