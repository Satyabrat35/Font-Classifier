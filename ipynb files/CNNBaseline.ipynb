{
 "metadata": {
  "colab": {
   "provenance": []
  },
  "kernelspec": {
   "name": "python3",
   "display_name": "Python 3",
   "language": "python"
  },
  "language_info": {
   "name": "python",
   "version": "3.10.13",
   "mimetype": "text/x-python",
   "codemirror_mode": {
    "name": "ipython",
    "version": 3
   },
   "pygments_lexer": "ipython3",
   "nbconvert_exporter": "python",
   "file_extension": ".py"
  },
  "kaggle": {
   "accelerator": "nvidiaTeslaT4",
   "dataSources": [
    {
     "sourceId": 8377464,
     "sourceType": "datasetVersion",
     "datasetId": 4981417
    }
   ],
   "dockerImageVersionId": 30699,
   "isInternetEnabled": true,
   "language": "python",
   "sourceType": "notebook",
   "isGpuEnabled": true
  }
 },
 "nbformat_minor": 4,
 "nbformat": 4,
 "cells": [
  {
   "cell_type": "code",
   "source": "! pip install datasets",
   "metadata": {
    "colab": {
     "base_uri": "https://localhost:8080/"
    },
    "id": "W-cvybfe0mdL",
    "outputId": "cc43b567-7793-415b-bdb0-1cea15773f1d",
    "execution": {
     "iopub.status.busy": "2024-05-11T15:23:51.040117Z",
     "iopub.execute_input": "2024-05-11T15:23:51.040481Z",
     "iopub.status.idle": "2024-05-11T15:24:04.236028Z",
     "shell.execute_reply.started": "2024-05-11T15:23:51.040453Z",
     "shell.execute_reply": "2024-05-11T15:24:04.235040Z"
    },
    "trusted": true
   },
   "execution_count": 1,
   "outputs": []
  },
  {
   "cell_type": "code",
   "source": "import torch\nimport torch.nn as nn\nimport torchvision\nfrom torch.utils.data import Dataset, DataLoader, Subset, random_split\nimport torchvision.transforms as transforms\nimport os\nimport numpy as np\nimport cv2\nimport datasets\nimport pandas as pd\nfrom datasets import load_dataset, DatasetDict\nimport sklearn\nfrom sklearn.preprocessing import LabelEncoder\nfrom sklearn.metrics import precision_score, recall_score\nimport matplotlib.pyplot as plt\nfrom torchvision.utils import make_grid \nimport time",
   "metadata": {
    "id": "NIwvtGCwzvEk",
    "execution": {
     "iopub.status.busy": "2024-05-11T15:24:04.238210Z",
     "iopub.execute_input": "2024-05-11T15:24:04.239038Z",
     "iopub.status.idle": "2024-05-11T15:24:11.049622Z",
     "shell.execute_reply.started": "2024-05-11T15:24:04.238998Z",
     "shell.execute_reply": "2024-05-11T15:24:11.048826Z"
    },
    "trusted": true
   },
   "execution_count": 2,
   "outputs": []
  },
  {
   "cell_type": "code",
   "source": "import os\nfor dirname, _, filenames in os.walk('/kaggle/input'):\n    for filename in filenames:\n        os.path.join(dirname, filename)",
   "metadata": {
    "execution": {
     "iopub.status.busy": "2024-05-11T15:25:24.902085Z",
     "iopub.execute_input": "2024-05-11T15:25:24.903253Z",
     "iopub.status.idle": "2024-05-11T15:25:25.111052Z",
     "shell.execute_reply.started": "2024-05-11T15:25:24.903210Z",
     "shell.execute_reply": "2024-05-11T15:25:25.110049Z"
    },
    "trusted": true
   },
   "execution_count": 3,
   "outputs": []
  },
  {
   "cell_type": "code",
   "source": "# Device configuration\ndevice = torch.device('cuda:0' if torch.cuda.is_available() else 'cpu')\ndevice",
   "metadata": {
    "colab": {
     "base_uri": "https://localhost:8080/"
    },
    "id": "K3GOmYmU0L6p",
    "outputId": "e87fa4b3-4235-4f79-9e2d-f5e1f38d7d57",
    "execution": {
     "iopub.status.busy": "2024-05-11T15:25:27.838197Z",
     "iopub.execute_input": "2024-05-11T15:25:27.839172Z",
     "iopub.status.idle": "2024-05-11T15:25:27.927555Z",
     "shell.execute_reply.started": "2024-05-11T15:25:27.839129Z",
     "shell.execute_reply": "2024-05-11T15:25:27.926313Z"
    },
    "trusted": true
   },
   "execution_count": 4,
   "outputs": []
  },
  {
   "cell_type": "code",
   "source": "img_path = \"/kaggle/input/font-style/data\"\nfont_classes = os.listdir(img_path)\n# Ignore .DS_store dir\nfont_classes = font_classes\nfont_classes",
   "metadata": {
    "colab": {
     "base_uri": "https://localhost:8080/"
    },
    "id": "fQ99F3rwSFsr",
    "outputId": "aa3c6223-c1f9-4f6b-f0a1-300550758b09",
    "execution": {
     "iopub.status.busy": "2024-05-11T15:25:40.626560Z",
     "iopub.execute_input": "2024-05-11T15:25:40.627468Z",
     "iopub.status.idle": "2024-05-11T15:25:40.633754Z",
     "shell.execute_reply.started": "2024-05-11T15:25:40.627439Z",
     "shell.execute_reply": "2024-05-11T15:25:40.632884Z"
    },
    "trusted": true
   },
   "execution_count": 6,
   "outputs": []
  },
  {
   "cell_type": "code",
   "source": "width, height = 500, 300\n\n# Resize image\ndef processImage(image_path):\n  orginal_img = cv2.imread(image_path)\n  # img_data = np.array(orginal_img)\n\n  # Upscale or downscale based on dimension\n  if orginal_img.shape[1] < width or orginal_img.shape[0] < height:\n    resize_img = cv2.resize(orginal_img, (width, height), interpolation= cv2.INTER_CUBIC)\n  else:\n    resize_img = cv2.resize(orginal_img, (width, height), interpolation= cv2.INTER_AREA)\n\n  return resize_img\n",
   "metadata": {
    "id": "bpxd5a8nSmYX",
    "execution": {
     "iopub.status.busy": "2024-05-11T15:25:45.238507Z",
     "iopub.execute_input": "2024-05-11T15:25:45.239485Z",
     "iopub.status.idle": "2024-05-11T15:25:45.247262Z",
     "shell.execute_reply.started": "2024-05-11T15:25:45.239447Z",
     "shell.execute_reply": "2024-05-11T15:25:45.245981Z"
    },
    "trusted": true
   },
   "execution_count": 7,
   "outputs": []
  },
  {
   "cell_type": "code",
   "source": "images = []\nlabels = []",
   "metadata": {
    "id": "TnycOLc1XBTR",
    "execution": {
     "iopub.status.busy": "2024-05-11T15:25:47.551324Z",
     "iopub.execute_input": "2024-05-11T15:25:47.551714Z",
     "iopub.status.idle": "2024-05-11T15:25:47.557697Z",
     "shell.execute_reply.started": "2024-05-11T15:25:47.551684Z",
     "shell.execute_reply": "2024-05-11T15:25:47.556486Z"
    },
    "trusted": true
   },
   "execution_count": 8,
   "outputs": []
  },
  {
   "cell_type": "code",
   "source": "for font_class in font_classes:\n  # Get all the font images for specific font\n  font_dir = os.path.join(img_path, font_class)\n\n  for image_file in os.listdir(font_dir):\n      image_path = os.path.join(font_dir, image_file)\n      images.append(processImage(image_path))\n      labels.append(font_class)\n\n\n# Encode Labels\nencoder = LabelEncoder()\nlabels = encoder.fit_transform(labels)\n\ndata = {'image': images, 'labels': labels}\ndf = pd.DataFrame(data)",
   "metadata": {
    "id": "t7rkbzf2SqMn",
    "execution": {
     "iopub.status.busy": "2024-05-11T15:25:48.667957Z",
     "iopub.execute_input": "2024-05-11T15:25:48.668342Z",
     "iopub.status.idle": "2024-05-11T15:26:01.486747Z",
     "shell.execute_reply.started": "2024-05-11T15:25:48.668313Z",
     "shell.execute_reply": "2024-05-11T15:26:01.485942Z"
    },
    "trusted": true
   },
   "execution_count": 9,
   "outputs": []
  },
  {
   "cell_type": "code",
   "source": "df",
   "metadata": {
    "colab": {
     "base_uri": "https://localhost:8080/",
     "height": 424
    },
    "id": "0fhGDUZiSqSU",
    "outputId": "b89a7f96-bcec-4dba-b1ed-dc826c062edc",
    "execution": {
     "iopub.status.busy": "2024-05-11T15:26:32.284409Z",
     "iopub.execute_input": "2024-05-11T15:26:32.284783Z",
     "iopub.status.idle": "2024-05-11T15:27:05.670559Z",
     "shell.execute_reply.started": "2024-05-11T15:26:32.284755Z",
     "shell.execute_reply": "2024-05-11T15:27:05.669528Z"
    },
    "trusted": true
   },
   "execution_count": 10,
   "outputs": []
  },
  {
   "cell_type": "code",
   "source": "df.image[0].shape",
   "metadata": {
    "colab": {
     "base_uri": "https://localhost:8080/"
    },
    "id": "GFjXfdux3kza",
    "outputId": "7e473b4a-2c70-45c8-f46a-37f9ba94b5e4",
    "execution": {
     "iopub.status.busy": "2024-05-11T15:27:05.672525Z",
     "iopub.execute_input": "2024-05-11T15:27:05.672908Z",
     "iopub.status.idle": "2024-05-11T15:27:05.680067Z",
     "shell.execute_reply.started": "2024-05-11T15:27:05.672877Z",
     "shell.execute_reply": "2024-05-11T15:27:05.678911Z"
    },
    "trusted": true
   },
   "execution_count": 11,
   "outputs": []
  },
  {
   "cell_type": "code",
   "source": "new_df = df.copy()",
   "metadata": {
    "id": "ak_c2jyQe837",
    "execution": {
     "iopub.status.busy": "2024-05-11T15:27:05.681323Z",
     "iopub.execute_input": "2024-05-11T15:27:05.681696Z",
     "iopub.status.idle": "2024-05-11T15:27:05.687497Z",
     "shell.execute_reply.started": "2024-05-11T15:27:05.681670Z",
     "shell.execute_reply": "2024-05-11T15:27:05.686065Z"
    },
    "trusted": true
   },
   "execution_count": 12,
   "outputs": []
  },
  {
   "cell_type": "code",
   "source": "# Convert into CxHxW format from HxWxC\nfor index, row in new_df.iterrows():\n\n    image_tensor = torch.tensor(row['image'])\n    image_tensor_permuted = image_tensor.permute(2, 0, 1)\n\n    new_df.at[index, 'image'] = image_tensor_permuted.numpy()",
   "metadata": {
    "id": "oTukFMUtgf9Q",
    "execution": {
     "iopub.status.busy": "2024-05-11T15:27:05.689539Z",
     "iopub.execute_input": "2024-05-11T15:27:05.689905Z",
     "iopub.status.idle": "2024-05-11T15:27:06.367559Z",
     "shell.execute_reply.started": "2024-05-11T15:27:05.689875Z",
     "shell.execute_reply": "2024-05-11T15:27:06.366743Z"
    },
    "trusted": true
   },
   "execution_count": 13,
   "outputs": []
  },
  {
   "cell_type": "code",
   "source": "new_df.image[0].shape",
   "metadata": {
    "colab": {
     "base_uri": "https://localhost:8080/"
    },
    "id": "acnStVyzf01a",
    "outputId": "9955d0dc-f11e-45a1-d383-694894a14543",
    "execution": {
     "iopub.status.busy": "2024-05-11T15:27:10.116961Z",
     "iopub.execute_input": "2024-05-11T15:27:10.117930Z",
     "iopub.status.idle": "2024-05-11T15:27:10.124250Z",
     "shell.execute_reply.started": "2024-05-11T15:27:10.117897Z",
     "shell.execute_reply": "2024-05-11T15:27:10.123387Z"
    },
    "trusted": true
   },
   "execution_count": 14,
   "outputs": []
  },
  {
   "cell_type": "code",
   "source": "class CustomDataset(Dataset):\n    def __init__(self, dataframe):\n        self.data = dataframe\n\n    def __len__(self):\n        return len(self.data)\n\n    def __getitem__(self, idx):\n        image = self.data.iloc[idx]['image']\n        label = self.data.iloc[idx]['labels']\n        return image, label",
   "metadata": {
    "id": "eobRHF8TNEj0",
    "execution": {
     "iopub.status.busy": "2024-05-11T15:27:11.942306Z",
     "iopub.execute_input": "2024-05-11T15:27:11.943184Z",
     "iopub.status.idle": "2024-05-11T15:27:11.948807Z",
     "shell.execute_reply.started": "2024-05-11T15:27:11.943151Z",
     "shell.execute_reply": "2024-05-11T15:27:11.947845Z"
    },
    "trusted": true
   },
   "execution_count": 15,
   "outputs": []
  },
  {
   "cell_type": "code",
   "source": "custom_dataset = CustomDataset(new_df)",
   "metadata": {
    "id": "VgGPUAGgNMYM",
    "execution": {
     "iopub.status.busy": "2024-05-11T15:27:14.093986Z",
     "iopub.execute_input": "2024-05-11T15:27:14.094819Z",
     "iopub.status.idle": "2024-05-11T15:27:14.098921Z",
     "shell.execute_reply.started": "2024-05-11T15:27:14.094786Z",
     "shell.execute_reply": "2024-05-11T15:27:14.097720Z"
    },
    "trusted": true
   },
   "execution_count": 16,
   "outputs": []
  },
  {
   "cell_type": "code",
   "source": "class ConvNetwork(nn.Module):\n  def __init__(self, num_classes = 10):\n    # Inheritance\n    super(ConvNetwork, self).__init__()\n    self.layer_1 = nn.Sequential(\n        nn.Conv2d(in_channels=3, out_channels=16, kernel_size=5, stride=1, padding=2),\n        nn.BatchNorm2d(16),\n        nn.ReLU(),\n        nn.MaxPool2d(kernel_size=2, stride=2)\n    )\n    self.layer_2 = nn.Sequential(\n        nn.Conv2d(in_channels=16, out_channels=16, kernel_size=5, stride=1, padding=2),\n        nn.BatchNorm2d(16),\n        nn.ReLU(),\n        nn.MaxPool2d(kernel_size=2, stride=2)\n    )\n    self.fl = nn.Flatten()\n    # self.fc = nn.Linear(32 * 75 * 125, num_classes)\n    self.layer_fc = nn.Linear(16 * 75 * 125, num_classes)\n\n  def forward(self, input):\n    output = self.layer_1(input)\n    output = self.layer_2(output)\n    output = self.fl(output)\n    final = self.layer_fc(output)\n    return final",
   "metadata": {
    "id": "_Zgm4-O74umI",
    "execution": {
     "iopub.status.busy": "2024-05-11T15:27:18.826278Z",
     "iopub.execute_input": "2024-05-11T15:27:18.826990Z",
     "iopub.status.idle": "2024-05-11T15:27:18.835250Z",
     "shell.execute_reply.started": "2024-05-11T15:27:18.826958Z",
     "shell.execute_reply": "2024-05-11T15:27:18.834285Z"
    },
    "trusted": true
   },
   "execution_count": 17,
   "outputs": []
  },
  {
   "cell_type": "code",
   "source": "# Model\nmodel = ConvNetwork(10).to(device)",
   "metadata": {
    "id": "uJAHPas55HPb",
    "execution": {
     "iopub.status.busy": "2024-05-11T15:27:22.626070Z",
     "iopub.execute_input": "2024-05-11T15:27:22.626719Z",
     "iopub.status.idle": "2024-05-11T15:27:22.833847Z",
     "shell.execute_reply.started": "2024-05-11T15:27:22.626687Z",
     "shell.execute_reply": "2024-05-11T15:27:22.832885Z"
    },
    "trusted": true
   },
   "execution_count": 18,
   "outputs": []
  },
  {
   "cell_type": "code",
   "source": "# Parameters\nepochs = 5\nbatch_size = 16\nlearning_rate = 0.01",
   "metadata": {
    "id": "OpzcfYwv5HU3",
    "execution": {
     "iopub.status.busy": "2024-05-11T15:27:24.793868Z",
     "iopub.execute_input": "2024-05-11T15:27:24.794740Z",
     "iopub.status.idle": "2024-05-11T15:27:24.798958Z",
     "shell.execute_reply.started": "2024-05-11T15:27:24.794708Z",
     "shell.execute_reply": "2024-05-11T15:27:24.797836Z"
    },
    "trusted": true
   },
   "execution_count": 19,
   "outputs": []
  },
  {
   "cell_type": "code",
   "source": "all_data_loader = torch.utils.data.DataLoader(custom_dataset, batch_size=batch_size, shuffle=True)",
   "metadata": {
    "id": "vn44urj0Nt1h",
    "execution": {
     "iopub.status.busy": "2024-05-11T15:27:28.467120Z",
     "iopub.execute_input": "2024-05-11T15:27:28.467491Z",
     "iopub.status.idle": "2024-05-11T15:27:28.472457Z",
     "shell.execute_reply.started": "2024-05-11T15:27:28.467461Z",
     "shell.execute_reply": "2024-05-11T15:27:28.471475Z"
    },
    "trusted": true
   },
   "execution_count": 20,
   "outputs": []
  },
  {
   "cell_type": "code",
   "source": "# Split into train test validation\ntotal_size = new_df.shape[0]\ntrain_size = int(0.7 * total_size)\ntest_size = int(0.15 * total_size)\nvalidation_size = total_size - train_size - test_size",
   "metadata": {
    "id": "iSCraUvRqWu0",
    "execution": {
     "iopub.status.busy": "2024-05-11T15:27:29.642853Z",
     "iopub.execute_input": "2024-05-11T15:27:29.643632Z",
     "iopub.status.idle": "2024-05-11T15:27:29.648773Z",
     "shell.execute_reply.started": "2024-05-11T15:27:29.643578Z",
     "shell.execute_reply": "2024-05-11T15:27:29.647528Z"
    },
    "trusted": true
   },
   "execution_count": 21,
   "outputs": []
  },
  {
   "cell_type": "code",
   "source": "train_set, test_set, validation_set = torch.utils.data.random_split(all_data_loader.dataset, [train_size, test_size, validation_size])",
   "metadata": {
    "id": "MyReI0rbqWy8",
    "execution": {
     "iopub.status.busy": "2024-05-11T15:27:32.021588Z",
     "iopub.execute_input": "2024-05-11T15:27:32.022296Z",
     "iopub.status.idle": "2024-05-11T15:27:32.031459Z",
     "shell.execute_reply.started": "2024-05-11T15:27:32.022263Z",
     "shell.execute_reply": "2024-05-11T15:27:32.030530Z"
    },
    "trusted": true
   },
   "execution_count": 22,
   "outputs": []
  },
  {
   "cell_type": "code",
   "source": "train_loader = DataLoader(train_set, batch_size=batch_size, shuffle=True)\ntest_loader = DataLoader(test_set, batch_size=batch_size, shuffle=False)\nvalidation_loader = DataLoader(validation_set, batch_size=batch_size, shuffle=False)",
   "metadata": {
    "id": "nx8pnWzPqW1j",
    "execution": {
     "iopub.status.busy": "2024-05-11T15:27:33.442165Z",
     "iopub.execute_input": "2024-05-11T15:27:33.442811Z",
     "iopub.status.idle": "2024-05-11T15:27:33.448452Z",
     "shell.execute_reply.started": "2024-05-11T15:27:33.442782Z",
     "shell.execute_reply": "2024-05-11T15:27:33.447681Z"
    },
    "trusted": true
   },
   "execution_count": 23,
   "outputs": []
  },
  {
   "cell_type": "code",
   "source": "# Show data for 1st batch\ndef batchImages(data):\n    for images, labels in data:\n        fig, ax = plt.subplots(figsize=(30, 30))\n        ax.set_xticks([]); ax.set_yticks([])\n        ax.imshow(make_grid(images, nrow=8).permute(1, 2, 0))\n        break",
   "metadata": {
    "execution": {
     "iopub.status.busy": "2024-05-11T15:27:35.532697Z",
     "iopub.execute_input": "2024-05-11T15:27:35.533090Z",
     "iopub.status.idle": "2024-05-11T15:27:35.538940Z",
     "shell.execute_reply.started": "2024-05-11T15:27:35.533062Z",
     "shell.execute_reply": "2024-05-11T15:27:35.537878Z"
    },
    "trusted": true
   },
   "execution_count": 24,
   "outputs": []
  },
  {
   "cell_type": "code",
   "source": "batchImages(train_loader)",
   "metadata": {
    "execution": {
     "iopub.status.busy": "2024-05-11T15:27:37.454678Z",
     "iopub.execute_input": "2024-05-11T15:27:37.455050Z",
     "iopub.status.idle": "2024-05-11T15:27:38.325982Z",
     "shell.execute_reply.started": "2024-05-11T15:27:37.455022Z",
     "shell.execute_reply": "2024-05-11T15:27:38.325007Z"
    },
    "trusted": true
   },
   "execution_count": 25,
   "outputs": []
  },
  {
   "cell_type": "code",
   "source": "# Loss and Optimizer\ncriterion = nn.CrossEntropyLoss()\noptimizer = torch.optim.Adam(model.parameters(), lr=learning_rate)",
   "metadata": {
    "id": "x-N4VuCk5HXP",
    "execution": {
     "iopub.status.busy": "2024-05-11T15:27:40.977099Z",
     "iopub.execute_input": "2024-05-11T15:27:40.977461Z",
     "iopub.status.idle": "2024-05-11T15:27:40.984073Z",
     "shell.execute_reply.started": "2024-05-11T15:27:40.977432Z",
     "shell.execute_reply": "2024-05-11T15:27:40.983006Z"
    },
    "trusted": true
   },
   "execution_count": 26,
   "outputs": []
  },
  {
   "cell_type": "code",
   "source": "# Model train\nsteps = new_df.shape[0]\nepoch_times = []\nmodel.to(device)\nprint(f'device -> {device}')\n\nfor epoch in range(epochs):\n  model.train()\n  train_loss = 0\n    \n  start_time = time.time()\n\n  for image, label in train_loader:\n    image = image.to(device).float()\n    label = label.to(device)\n    # image = image.to(torch.float32)\n    \n    optimizer.zero_grad()\n    # print(image.size())\n    output = model(image)\n    loss = criterion(output, label)\n\n    \n    loss.backward()\n    optimizer.step()\n\n    # loss.item() -> avg loss per batch, so scale the loss\n    train_loss += loss.item() * image.size(0)\n\n  train_loss = train_loss / steps\n\n  model.eval()\n  val_loss = 0\n\n  with torch.no_grad():\n    for image, label in validation_loader:\n      image = image.to(device).float()\n      label = label.to(device)\n      # image = image.to(torch.float32)\n      output = model(image)\n\n      loss = criterion(output, label)\n      val_loss += loss.item() * image.size(0)\n\n  val_loss = val_loss / steps\n\n  end_time = time.time()  \n  epoch_time = end_time - start_time  \n  epoch_times.append(epoch_time)\n\n  print(f'Epoch [{epoch+1}/{epochs}], Train Loss: {train_loss:.4f}, Validation Loss: {val_loss:.4f}, Epoch Time: {epoch_time:.2f} seconds')\n\naverage_epoch_time = sum(epoch_times) / len(epoch_times)\nprint(f'Average Epoch Time: {average_epoch_time:.2f} seconds')",
   "metadata": {
    "colab": {
     "base_uri": "https://localhost:8080/"
    },
    "id": "q1KYM9Q35HZN",
    "outputId": "370bbae1-fd62-4b35-f749-90cd83864eb0",
    "execution": {
     "iopub.status.busy": "2024-05-11T15:28:07.874586Z",
     "iopub.execute_input": "2024-05-11T15:28:07.875541Z",
     "iopub.status.idle": "2024-05-11T15:28:29.176093Z",
     "shell.execute_reply.started": "2024-05-11T15:28:07.875504Z",
     "shell.execute_reply": "2024-05-11T15:28:29.175097Z"
    },
    "trusted": true
   },
   "execution_count": 28,
   "outputs": []
  },
  {
   "cell_type": "code",
   "source": "len(test_loader.dataset)",
   "metadata": {
    "colab": {
     "base_uri": "https://localhost:8080/"
    },
    "id": "ZeoIR9hBpFMc",
    "outputId": "cf24fc85-c087-49c9-ce39-c8ca0b3ac922",
    "execution": {
     "iopub.status.busy": "2024-05-11T15:28:55.270693Z",
     "iopub.execute_input": "2024-05-11T15:28:55.271476Z",
     "iopub.status.idle": "2024-05-11T15:28:55.281261Z",
     "shell.execute_reply.started": "2024-05-11T15:28:55.271442Z",
     "shell.execute_reply": "2024-05-11T15:28:55.279997Z"
    },
    "trusted": true
   },
   "execution_count": 29,
   "outputs": []
  },
  {
   "cell_type": "code",
   "source": "# Test mode\nmodel.eval()\npreds = []\ntrue_labels = []\n\nstart_time = time.time()\n\nwith torch.no_grad():\n  correct_pred = 0\n  total_pred = 0\n\n  for image, label in test_loader:\n    image = image.to(device).float()\n    label = label.to(device)\n    output = model(image)\n\n    values, prediction = torch.max(output.data, 1)\n    # preds.append(prediction)\n    \n    # Add the batch size to total_pred\n    total_pred += label.size(0)\n    correct_pred += (prediction == label).sum().item()\n    # scikit learn functions operate on cpu tensor\n    preds.extend(prediction.cpu().numpy())\n    true_labels.extend(label.cpu().numpy())\n\n  \nend_time = time.time()  \nevaluation_time = end_time - start_time\n\nprecision = precision_score(true_labels, preds, average=None)\nrecall = recall_score(true_labels, preds, average=None)\n\nprint(f'Accuracy -> {100*correct_pred / total_pred}%, Evaluation Time -> {evaluation_time:.2f} seconds')",
   "metadata": {
    "colab": {
     "base_uri": "https://localhost:8080/"
    },
    "id": "KgAPTVA9VA-e",
    "outputId": "d85082dc-c009-41c3-98d2-c213ace6e545",
    "execution": {
     "iopub.status.busy": "2024-05-11T15:31:35.728978Z",
     "iopub.execute_input": "2024-05-11T15:31:35.729349Z",
     "iopub.status.idle": "2024-05-11T15:31:36.120649Z",
     "shell.execute_reply.started": "2024-05-11T15:31:35.729323Z",
     "shell.execute_reply": "2024-05-11T15:31:36.119590Z"
    },
    "trusted": true
   },
   "execution_count": 34,
   "outputs": []
  },
  {
   "cell_type": "code",
   "source": "# Precision and Recall for each class\nprint(f'Precision -> {precision}')\nprint(f'Recall -> {recall}')",
   "metadata": {
    "execution": {
     "iopub.status.busy": "2024-05-11T15:31:40.124408Z",
     "iopub.execute_input": "2024-05-11T15:31:40.125169Z",
     "iopub.status.idle": "2024-05-11T15:31:40.130571Z",
     "shell.execute_reply.started": "2024-05-11T15:31:40.125139Z",
     "shell.execute_reply": "2024-05-11T15:31:40.129632Z"
    },
    "trusted": true
   },
   "execution_count": 35,
   "outputs": []
  },
  {
   "cell_type": "code",
   "source": "# save model\ntorch.save(model.state_dict(), 'cnnmodel.ckpt')",
   "metadata": {
    "id": "mzuFYmcElB2D",
    "execution": {
     "iopub.status.busy": "2024-05-11T15:30:45.055526Z",
     "iopub.execute_input": "2024-05-11T15:30:45.056433Z",
     "iopub.status.idle": "2024-05-11T15:30:45.074010Z",
     "shell.execute_reply.started": "2024-05-11T15:30:45.056400Z",
     "shell.execute_reply": "2024-05-11T15:30:45.073242Z"
    },
    "trusted": true
   },
   "execution_count": 33,
   "outputs": []
  }
 ]
}
