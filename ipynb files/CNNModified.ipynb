{
 "metadata": {
  "colab": {
   "provenance": []
  },
  "kernelspec": {
   "name": "python3",
   "display_name": "Python 3",
   "language": "python"
  },
  "language_info": {
   "name": "python",
   "version": "3.10.13",
   "mimetype": "text/x-python",
   "codemirror_mode": {
    "name": "ipython",
    "version": 3
   },
   "pygments_lexer": "ipython3",
   "nbconvert_exporter": "python",
   "file_extension": ".py"
  },
  "kaggle": {
   "accelerator": "nvidiaTeslaT4",
   "dataSources": [
    {
     "sourceId": 8377464,
     "sourceType": "datasetVersion",
     "datasetId": 4981417
    }
   ],
   "dockerImageVersionId": 30698,
   "isInternetEnabled": true,
   "language": "python",
   "sourceType": "notebook",
   "isGpuEnabled": true
  }
 },
 "nbformat_minor": 4,
 "nbformat": 4,
 "cells": [
  {
   "cell_type": "code",
   "source": "! pip install datasets",
   "metadata": {
    "colab": {
     "base_uri": "https://localhost:8080/"
    },
    "id": "W-cvybfe0mdL",
    "outputId": "cc43b567-7793-415b-bdb0-1cea15773f1d",
    "execution": {
     "iopub.status.busy": "2024-05-11T16:14:56.737150Z",
     "iopub.execute_input": "2024-05-11T16:14:56.737448Z",
     "iopub.status.idle": "2024-05-11T16:15:11.951747Z",
     "shell.execute_reply.started": "2024-05-11T16:14:56.737401Z",
     "shell.execute_reply": "2024-05-11T16:15:11.950597Z"
    },
    "trusted": true
   },
   "execution_count": 1,
   "outputs": []
  },
  {
   "cell_type": "code",
   "source": "import torch\nimport torch.nn as nn\nimport torchvision\nfrom torch.utils.data import Dataset, DataLoader, Subset, random_split\nimport torchvision.transforms as transforms\nimport os\nimport numpy as np\nimport cv2\nimport datasets\nimport pandas as pd\nfrom datasets import load_dataset, DatasetDict\nimport sklearn\nfrom sklearn.preprocessing import LabelEncoder\nfrom sklearn.metrics import precision_score, recall_score\nimport matplotlib.pyplot as plt\nfrom torchvision.utils import make_grid \nimport time",
   "metadata": {
    "id": "NIwvtGCwzvEk",
    "execution": {
     "iopub.status.busy": "2024-05-11T16:15:11.953815Z",
     "iopub.execute_input": "2024-05-11T16:15:11.954139Z",
     "iopub.status.idle": "2024-05-11T16:15:24.003863Z",
     "shell.execute_reply.started": "2024-05-11T16:15:11.954107Z",
     "shell.execute_reply": "2024-05-11T16:15:24.003089Z"
    },
    "trusted": true
   },
   "execution_count": 2,
   "outputs": []
  },
  {
   "cell_type": "code",
   "source": "# Random seed for PyTorch\ntorch.manual_seed(42)",
   "metadata": {
    "execution": {
     "iopub.status.busy": "2024-05-11T16:15:24.004942Z",
     "iopub.execute_input": "2024-05-11T16:15:24.005510Z",
     "iopub.status.idle": "2024-05-11T16:15:24.015915Z",
     "shell.execute_reply.started": "2024-05-11T16:15:24.005476Z",
     "shell.execute_reply": "2024-05-11T16:15:24.014932Z"
    },
    "trusted": true
   },
   "execution_count": 3,
   "outputs": []
  },
  {
   "cell_type": "code",
   "source": "import os\nfor dirname, _, filenames in os.walk('/kaggle/input'):\n    for filename in filenames:\n        os.path.join(dirname, filename)",
   "metadata": {
    "execution": {
     "iopub.status.busy": "2024-05-11T16:15:24.018188Z",
     "iopub.execute_input": "2024-05-11T16:15:24.018477Z",
     "iopub.status.idle": "2024-05-11T16:15:24.660384Z",
     "shell.execute_reply.started": "2024-05-11T16:15:24.018446Z",
     "shell.execute_reply": "2024-05-11T16:15:24.659623Z"
    },
    "trusted": true
   },
   "execution_count": 4,
   "outputs": []
  },
  {
   "cell_type": "code",
   "source": "# Device configuration\ndevice = torch.device('cuda:0' if torch.cuda.is_available() else 'cpu')\ndevice",
   "metadata": {
    "colab": {
     "base_uri": "https://localhost:8080/"
    },
    "id": "K3GOmYmU0L6p",
    "outputId": "e87fa4b3-4235-4f79-9e2d-f5e1f38d7d57",
    "execution": {
     "iopub.status.busy": "2024-05-11T16:15:24.661637Z",
     "iopub.execute_input": "2024-05-11T16:15:24.661990Z",
     "iopub.status.idle": "2024-05-11T16:15:24.722382Z",
     "shell.execute_reply.started": "2024-05-11T16:15:24.661955Z",
     "shell.execute_reply": "2024-05-11T16:15:24.721476Z"
    },
    "trusted": true
   },
   "execution_count": 5,
   "outputs": []
  },
  {
   "cell_type": "code",
   "source": "img_path = \"/kaggle/input/font-style/data\"\nfont_classes = os.listdir(img_path)\n# Ignore .DS_store dir\nfont_classes = font_classes\nfont_classes",
   "metadata": {
    "colab": {
     "base_uri": "https://localhost:8080/"
    },
    "id": "fQ99F3rwSFsr",
    "outputId": "aa3c6223-c1f9-4f6b-f0a1-300550758b09",
    "execution": {
     "iopub.status.busy": "2024-05-11T16:15:24.723805Z",
     "iopub.execute_input": "2024-05-11T16:15:24.724670Z",
     "iopub.status.idle": "2024-05-11T16:15:24.737757Z",
     "shell.execute_reply.started": "2024-05-11T16:15:24.724635Z",
     "shell.execute_reply": "2024-05-11T16:15:24.736839Z"
    },
    "trusted": true
   },
   "execution_count": 6,
   "outputs": []
  },
  {
   "cell_type": "code",
   "source": "width, height = 500, 300\n\n# Resize image\ndef processImage(image_path):\n  orginal_img = cv2.imread(image_path)\n  # img_data = np.array(orginal_img)\n\n  # Upscale or downscale based on dimension\n  if orginal_img.shape[1] < width or orginal_img.shape[0] < height:\n    resize_img = cv2.resize(orginal_img, (width, height), interpolation= cv2.INTER_CUBIC)\n  else:\n    resize_img = cv2.resize(orginal_img, (width, height), interpolation= cv2.INTER_AREA)\n\n  return resize_img\n",
   "metadata": {
    "id": "bpxd5a8nSmYX",
    "execution": {
     "iopub.status.busy": "2024-05-11T16:15:24.738911Z",
     "iopub.execute_input": "2024-05-11T16:15:24.739211Z",
     "iopub.status.idle": "2024-05-11T16:15:24.746476Z",
     "shell.execute_reply.started": "2024-05-11T16:15:24.739187Z",
     "shell.execute_reply": "2024-05-11T16:15:24.745707Z"
    },
    "trusted": true
   },
   "execution_count": 7,
   "outputs": []
  },
  {
   "cell_type": "code",
   "source": "images = []\nlabels = []",
   "metadata": {
    "id": "TnycOLc1XBTR",
    "execution": {
     "iopub.status.busy": "2024-05-11T16:15:24.747517Z",
     "iopub.execute_input": "2024-05-11T16:15:24.747870Z",
     "iopub.status.idle": "2024-05-11T16:15:24.758695Z",
     "shell.execute_reply.started": "2024-05-11T16:15:24.747845Z",
     "shell.execute_reply": "2024-05-11T16:15:24.757977Z"
    },
    "trusted": true
   },
   "execution_count": 8,
   "outputs": []
  },
  {
   "cell_type": "code",
   "source": "for font_class in font_classes:\n  # Get all the font images for specific font\n  font_dir = os.path.join(img_path, font_class)\n\n  for image_file in os.listdir(font_dir):\n      image_path = os.path.join(font_dir, image_file)\n      images.append(processImage(image_path))\n      labels.append(font_class)\n\n\n# Encode Labels\nencoder = LabelEncoder()\nlabels = encoder.fit_transform(labels)\n\ndata = {'image': images, 'labels': labels}\ndf = pd.DataFrame(data)",
   "metadata": {
    "id": "t7rkbzf2SqMn",
    "execution": {
     "iopub.status.busy": "2024-05-11T16:15:24.759747Z",
     "iopub.execute_input": "2024-05-11T16:15:24.760008Z",
     "iopub.status.idle": "2024-05-11T16:15:40.992680Z",
     "shell.execute_reply.started": "2024-05-11T16:15:24.759988Z",
     "shell.execute_reply": "2024-05-11T16:15:40.991921Z"
    },
    "trusted": true
   },
   "execution_count": 9,
   "outputs": []
  },
  {
   "cell_type": "code",
   "source": "df",
   "metadata": {
    "colab": {
     "base_uri": "https://localhost:8080/",
     "height": 424
    },
    "id": "0fhGDUZiSqSU",
    "outputId": "b89a7f96-bcec-4dba-b1ed-dc826c062edc",
    "execution": {
     "iopub.status.busy": "2024-05-11T16:15:40.995968Z",
     "iopub.execute_input": "2024-05-11T16:15:40.996291Z",
     "iopub.status.idle": "2024-05-11T16:16:13.331684Z",
     "shell.execute_reply.started": "2024-05-11T16:15:40.996266Z",
     "shell.execute_reply": "2024-05-11T16:16:13.330698Z"
    },
    "trusted": true
   },
   "execution_count": 10,
   "outputs": []
  },
  {
   "cell_type": "code",
   "source": "df.image[0].shape",
   "metadata": {
    "colab": {
     "base_uri": "https://localhost:8080/"
    },
    "id": "GFjXfdux3kza",
    "outputId": "7e473b4a-2c70-45c8-f46a-37f9ba94b5e4",
    "execution": {
     "iopub.status.busy": "2024-05-11T16:16:13.332940Z",
     "iopub.execute_input": "2024-05-11T16:16:13.333689Z",
     "iopub.status.idle": "2024-05-11T16:16:13.340080Z",
     "shell.execute_reply.started": "2024-05-11T16:16:13.333657Z",
     "shell.execute_reply": "2024-05-11T16:16:13.339119Z"
    },
    "trusted": true
   },
   "execution_count": 11,
   "outputs": []
  },
  {
   "cell_type": "code",
   "source": "new_df = df.copy()",
   "metadata": {
    "id": "ak_c2jyQe837",
    "execution": {
     "iopub.status.busy": "2024-05-11T16:16:13.341380Z",
     "iopub.execute_input": "2024-05-11T16:16:13.341748Z",
     "iopub.status.idle": "2024-05-11T16:16:13.352148Z",
     "shell.execute_reply.started": "2024-05-11T16:16:13.341714Z",
     "shell.execute_reply": "2024-05-11T16:16:13.351169Z"
    },
    "trusted": true
   },
   "execution_count": 12,
   "outputs": []
  },
  {
   "cell_type": "code",
   "source": "# Convert into CxHxW format from HxWxC\nfor index, row in new_df.iterrows():\n\n    image_tensor = torch.tensor(row['image'])\n    image_tensor_permuted = image_tensor.permute(2, 0, 1)\n\n    new_df.at[index, 'image'] = image_tensor_permuted.numpy()",
   "metadata": {
    "id": "oTukFMUtgf9Q",
    "execution": {
     "iopub.status.busy": "2024-05-11T16:16:13.353340Z",
     "iopub.execute_input": "2024-05-11T16:16:13.353640Z",
     "iopub.status.idle": "2024-05-11T16:16:14.009099Z",
     "shell.execute_reply.started": "2024-05-11T16:16:13.353617Z",
     "shell.execute_reply": "2024-05-11T16:16:14.008174Z"
    },
    "trusted": true
   },
   "execution_count": 13,
   "outputs": []
  },
  {
   "cell_type": "code",
   "source": "new_df.image[0].shape",
   "metadata": {
    "colab": {
     "base_uri": "https://localhost:8080/"
    },
    "id": "acnStVyzf01a",
    "outputId": "9955d0dc-f11e-45a1-d383-694894a14543",
    "execution": {
     "iopub.status.busy": "2024-05-11T16:16:14.010268Z",
     "iopub.execute_input": "2024-05-11T16:16:14.011665Z",
     "iopub.status.idle": "2024-05-11T16:16:14.020285Z",
     "shell.execute_reply.started": "2024-05-11T16:16:14.011632Z",
     "shell.execute_reply": "2024-05-11T16:16:14.019366Z"
    },
    "trusted": true
   },
   "execution_count": 14,
   "outputs": []
  },
  {
   "cell_type": "code",
   "source": "class CustomDataset(Dataset):\n    def __init__(self, dataframe):\n        self.data = dataframe\n\n    def __len__(self):\n        return len(self.data)\n\n    def __getitem__(self, idx):\n        image = self.data.iloc[idx]['image']\n        label = self.data.iloc[idx]['labels']\n        return image, label",
   "metadata": {
    "id": "eobRHF8TNEj0",
    "execution": {
     "iopub.status.busy": "2024-05-11T16:16:14.021461Z",
     "iopub.execute_input": "2024-05-11T16:16:14.021796Z",
     "iopub.status.idle": "2024-05-11T16:16:14.029172Z",
     "shell.execute_reply.started": "2024-05-11T16:16:14.021762Z",
     "shell.execute_reply": "2024-05-11T16:16:14.028476Z"
    },
    "trusted": true
   },
   "execution_count": 15,
   "outputs": []
  },
  {
   "cell_type": "code",
   "source": "custom_dataset = CustomDataset(new_df)",
   "metadata": {
    "id": "VgGPUAGgNMYM",
    "execution": {
     "iopub.status.busy": "2024-05-11T16:16:14.030167Z",
     "iopub.execute_input": "2024-05-11T16:16:14.030439Z",
     "iopub.status.idle": "2024-05-11T16:16:14.039289Z",
     "shell.execute_reply.started": "2024-05-11T16:16:14.030400Z",
     "shell.execute_reply": "2024-05-11T16:16:14.038412Z"
    },
    "trusted": true
   },
   "execution_count": 16,
   "outputs": []
  },
  {
   "cell_type": "code",
   "source": "class ConvNetwork(nn.Module):\n  def __init__(self, num_classes = 10):\n    # Inheritance\n    super(ConvNetwork, self).__init__()\n    \n    # Sequential Layers\n    self.layer_1 = nn.Sequential(\n        nn.Conv2d(in_channels=3, out_channels=16, kernel_size=5, stride=1, padding=2),\n        nn.BatchNorm2d(16),\n        nn.ReLU(),\n        nn.MaxPool2d(kernel_size=2, stride=2)\n    )\n    self.layer_2 = nn.Sequential(\n        nn.Conv2d(in_channels=16, out_channels=32, kernel_size=5, stride=1, padding=2),\n        nn.BatchNorm2d(32),\n        nn.ReLU(),\n        nn.MaxPool2d(kernel_size=2, stride=2)\n    )\n    self.layer_3 = nn.Sequential(\n        nn.Conv2d(in_channels=32, out_channels=64, kernel_size=3, stride=1, padding=1),\n        nn.BatchNorm2d(64),\n        nn.ReLU(),\n        nn.MaxPool2d(kernel_size=2, stride=2)\n    )\n    self.layer_4 = nn.Sequential(\n        nn.Conv2d(in_channels=64, out_channels=128, kernel_size=3, stride=1, padding=1),\n        nn.BatchNorm2d(128),\n        nn.ReLU(),\n        nn.MaxPool2d(kernel_size=2, stride=2)\n    )\n    \n    # Dropout Layer\n    self.dropout = nn.Dropout(p=0.2)\n    \n    # Flatten Layer\n    self.fl = nn.Flatten()\n    \n    # Linear Layer\n    self.layer_fc = nn.Linear(128 * 18 * 31, num_classes)\n\n  def forward(self, input):\n    output = self.layer_1(input)\n    output = self.layer_2(output)\n    output = self.layer_3(output)\n    output = self.layer_4(output)\n    output = self.dropout(output)\n    output = self.fl(output)\n    final = self.layer_fc(output)\n    return final",
   "metadata": {
    "id": "_Zgm4-O74umI",
    "execution": {
     "iopub.status.busy": "2024-05-11T16:16:14.040340Z",
     "iopub.execute_input": "2024-05-11T16:16:14.040634Z",
     "iopub.status.idle": "2024-05-11T16:16:14.052733Z",
     "shell.execute_reply.started": "2024-05-11T16:16:14.040612Z",
     "shell.execute_reply": "2024-05-11T16:16:14.051880Z"
    },
    "trusted": true
   },
   "execution_count": 17,
   "outputs": []
  },
  {
   "cell_type": "code",
   "source": "# del model",
   "metadata": {
    "execution": {
     "iopub.status.busy": "2024-05-11T16:16:14.053759Z",
     "iopub.execute_input": "2024-05-11T16:16:14.054023Z",
     "iopub.status.idle": "2024-05-11T16:16:14.067680Z",
     "shell.execute_reply.started": "2024-05-11T16:16:14.054001Z",
     "shell.execute_reply": "2024-05-11T16:16:14.066949Z"
    },
    "trusted": true
   },
   "execution_count": 18,
   "outputs": []
  },
  {
   "cell_type": "code",
   "source": "# Model\nmodel = ConvNetwork(10).to(device)",
   "metadata": {
    "id": "uJAHPas55HPb",
    "execution": {
     "iopub.status.busy": "2024-05-11T16:16:14.068732Z",
     "iopub.execute_input": "2024-05-11T16:16:14.069006Z",
     "iopub.status.idle": "2024-05-11T16:16:14.322416Z",
     "shell.execute_reply.started": "2024-05-11T16:16:14.068984Z",
     "shell.execute_reply": "2024-05-11T16:16:14.321600Z"
    },
    "trusted": true
   },
   "execution_count": 19,
   "outputs": []
  },
  {
   "cell_type": "code",
   "source": "# Parameters\nepochs = 5\nbatch_size = 16\nlearning_rate = 0.01\nweight_decay = 0.001",
   "metadata": {
    "id": "OpzcfYwv5HU3",
    "execution": {
     "iopub.status.busy": "2024-05-11T16:16:14.323590Z",
     "iopub.execute_input": "2024-05-11T16:16:14.323908Z",
     "iopub.status.idle": "2024-05-11T16:16:14.328747Z",
     "shell.execute_reply.started": "2024-05-11T16:16:14.323882Z",
     "shell.execute_reply": "2024-05-11T16:16:14.327640Z"
    },
    "trusted": true
   },
   "execution_count": 20,
   "outputs": []
  },
  {
   "cell_type": "code",
   "source": "all_data_loader = torch.utils.data.DataLoader(custom_dataset, batch_size=batch_size, shuffle=True)",
   "metadata": {
    "id": "vn44urj0Nt1h",
    "execution": {
     "iopub.status.busy": "2024-05-11T16:16:14.329855Z",
     "iopub.execute_input": "2024-05-11T16:16:14.330689Z",
     "iopub.status.idle": "2024-05-11T16:16:14.338616Z",
     "shell.execute_reply.started": "2024-05-11T16:16:14.330664Z",
     "shell.execute_reply": "2024-05-11T16:16:14.337842Z"
    },
    "trusted": true
   },
   "execution_count": 21,
   "outputs": []
  },
  {
   "cell_type": "code",
   "source": "# Split into train test validation\ntotal_size = new_df.shape[0]\ntrain_size = int(0.7 * total_size)\ntest_size = int(0.15 * total_size)\nvalidation_size = total_size - train_size - test_size",
   "metadata": {
    "id": "iSCraUvRqWu0",
    "execution": {
     "iopub.status.busy": "2024-05-11T16:16:14.339727Z",
     "iopub.execute_input": "2024-05-11T16:16:14.340032Z",
     "iopub.status.idle": "2024-05-11T16:16:14.349052Z",
     "shell.execute_reply.started": "2024-05-11T16:16:14.340010Z",
     "shell.execute_reply": "2024-05-11T16:16:14.348103Z"
    },
    "trusted": true
   },
   "execution_count": 22,
   "outputs": []
  },
  {
   "cell_type": "code",
   "source": "train_set, test_set, validation_set = torch.utils.data.random_split(all_data_loader.dataset, [train_size, test_size, validation_size])",
   "metadata": {
    "id": "MyReI0rbqWy8",
    "execution": {
     "iopub.status.busy": "2024-05-11T16:16:14.350154Z",
     "iopub.execute_input": "2024-05-11T16:16:14.350554Z",
     "iopub.status.idle": "2024-05-11T16:16:14.366419Z",
     "shell.execute_reply.started": "2024-05-11T16:16:14.350521Z",
     "shell.execute_reply": "2024-05-11T16:16:14.365460Z"
    },
    "trusted": true
   },
   "execution_count": 23,
   "outputs": []
  },
  {
   "cell_type": "code",
   "source": "train_loader = DataLoader(train_set, batch_size=batch_size, shuffle=True)\ntest_loader = DataLoader(test_set, batch_size=batch_size, shuffle=False)\nvalidation_loader = DataLoader(validation_set, batch_size=batch_size, shuffle=False)",
   "metadata": {
    "id": "nx8pnWzPqW1j",
    "execution": {
     "iopub.status.busy": "2024-05-11T16:16:14.367479Z",
     "iopub.execute_input": "2024-05-11T16:16:14.367741Z",
     "iopub.status.idle": "2024-05-11T16:16:14.374961Z",
     "shell.execute_reply.started": "2024-05-11T16:16:14.367718Z",
     "shell.execute_reply": "2024-05-11T16:16:14.374215Z"
    },
    "trusted": true
   },
   "execution_count": 24,
   "outputs": []
  },
  {
   "cell_type": "code",
   "source": "# Show data for 1st batch\ndef batchImages(data):\n    for images, labels in data:\n        fig, ax = plt.subplots(figsize=(30, 30))\n        ax.set_xticks([]); ax.set_yticks([])\n        ax.imshow(make_grid(images, nrow=8).permute(1, 2, 0))\n        break",
   "metadata": {
    "execution": {
     "iopub.status.busy": "2024-05-11T16:16:14.375928Z",
     "iopub.execute_input": "2024-05-11T16:16:14.376281Z",
     "iopub.status.idle": "2024-05-11T16:16:14.385976Z",
     "shell.execute_reply.started": "2024-05-11T16:16:14.376257Z",
     "shell.execute_reply": "2024-05-11T16:16:14.385162Z"
    },
    "trusted": true
   },
   "execution_count": 25,
   "outputs": []
  },
  {
   "cell_type": "code",
   "source": "batchImages(train_loader)",
   "metadata": {
    "execution": {
     "iopub.status.busy": "2024-05-11T16:16:14.387035Z",
     "iopub.execute_input": "2024-05-11T16:16:14.387368Z",
     "iopub.status.idle": "2024-05-11T16:16:15.272743Z",
     "shell.execute_reply.started": "2024-05-11T16:16:14.387339Z",
     "shell.execute_reply": "2024-05-11T16:16:15.271828Z"
    },
    "trusted": true
   },
   "execution_count": 26,
   "outputs": []
  },
  {
   "cell_type": "code",
   "source": "# Loss and Optimizer\ncriterion = nn.CrossEntropyLoss()\noptimizer = torch.optim.Adam(model.parameters(), lr=learning_rate, weight_decay=weight_decay)",
   "metadata": {
    "id": "x-N4VuCk5HXP",
    "execution": {
     "iopub.status.busy": "2024-05-11T16:16:15.274099Z",
     "iopub.execute_input": "2024-05-11T16:16:15.274515Z",
     "iopub.status.idle": "2024-05-11T16:16:15.280186Z",
     "shell.execute_reply.started": "2024-05-11T16:16:15.274482Z",
     "shell.execute_reply": "2024-05-11T16:16:15.279273Z"
    },
    "trusted": true
   },
   "execution_count": 27,
   "outputs": []
  },
  {
   "cell_type": "code",
   "source": "# Model train\nsteps = new_df.shape[0]\nepoch_times = []\nmodel.to(device)\nprint(f'device -> {device}')\n\nfor epoch in range(epochs):\n  model.train()\n  train_loss = 0\n    \n  start_time = time.time()\n\n  for image, label in train_loader:\n    image = image.to(device).float()\n    label = label.to(device)\n    \n    optimizer.zero_grad()\n    # print(image.size())\n    \n    output = model(image)\n    loss = criterion(output, label)\n\n    \n    loss.backward()\n    optimizer.step()\n\n    # loss.item() -> avg loss per batch, so scale the loss\n    train_loss += loss.item() * image.size(0)\n\n  train_loss = train_loss / steps\n\n  model.eval()\n  val_loss = 0\n\n  with torch.no_grad():\n    for image, label in validation_loader:\n      image = image.to(device).float()\n      label = label.to(device)\n      \n      output = model(image)\n\n      loss = criterion(output, label)\n      val_loss += loss.item() * image.size(0)\n\n  val_loss = val_loss / steps\n\n  end_time = time.time()  \n  epoch_time = end_time - start_time  \n  epoch_times.append(epoch_time)\n\n  print(f'Epoch [{epoch+1}/{epochs}], Train Loss: {train_loss:.4f}, Validation Loss: {val_loss:.4f}, Epoch Time: {epoch_time:.2f} seconds')\n\naverage_epoch_time = sum(epoch_times) / len(epoch_times)\nprint(f'Average Epoch Time: {average_epoch_time:.2f} seconds')",
   "metadata": {
    "colab": {
     "base_uri": "https://localhost:8080/"
    },
    "id": "q1KYM9Q35HZN",
    "outputId": "370bbae1-fd62-4b35-f749-90cd83864eb0",
    "execution": {
     "iopub.status.busy": "2024-05-11T16:16:15.284625Z",
     "iopub.execute_input": "2024-05-11T16:16:15.285535Z",
     "iopub.status.idle": "2024-05-11T16:16:46.340463Z",
     "shell.execute_reply.started": "2024-05-11T16:16:15.285508Z",
     "shell.execute_reply": "2024-05-11T16:16:46.339477Z"
    },
    "trusted": true
   },
   "execution_count": 28,
   "outputs": []
  },
  {
   "cell_type": "code",
   "source": "# Test mode\nmodel.eval()\npreds = []\ntrue_labels = []\n\nstart_time = time.time()\n\nwith torch.no_grad():\n  correct_pred = 0\n  total_pred = 0\n\n  for image, label in test_loader:\n    image = image.to(device).float()\n    label = label.to(device)\n    output = model(image)\n\n    values, prediction = torch.max(output.data, 1)\n    # preds.append(prediction)\n    \n    # Add the batch size to total_pred\n    total_pred += label.size(0)\n    correct_pred += (prediction == label).sum().item()\n    \n    # scikit learn functions operate on cpu tensor\n    preds.extend(prediction.cpu().numpy())\n    true_labels.extend(label.cpu().numpy())\n\n  \nend_time = time.time()  \nevaluation_time = end_time - start_time\n\nprecision = precision_score(true_labels, preds, average=None)\nrecall = recall_score(true_labels, preds, average=None)\n\nprint(f'Accuracy -> {100*correct_pred / total_pred}%, Evaluation Time -> {evaluation_time:.2f} seconds')",
   "metadata": {
    "colab": {
     "base_uri": "https://localhost:8080/"
    },
    "id": "KgAPTVA9VA-e",
    "outputId": "d85082dc-c009-41c3-98d2-c213ace6e545",
    "execution": {
     "iopub.status.busy": "2024-05-11T16:16:46.341746Z",
     "iopub.execute_input": "2024-05-11T16:16:46.342121Z",
     "iopub.status.idle": "2024-05-11T16:16:46.850086Z",
     "shell.execute_reply.started": "2024-05-11T16:16:46.342093Z",
     "shell.execute_reply": "2024-05-11T16:16:46.849143Z"
    },
    "trusted": true
   },
   "execution_count": 29,
   "outputs": []
  },
  {
   "cell_type": "code",
   "source": "# Precision and Recall for each class\nprint(f'Precision -> {precision}')\nprint(f'Recall -> {recall}')",
   "metadata": {
    "execution": {
     "iopub.status.busy": "2024-05-11T16:16:46.851340Z",
     "iopub.execute_input": "2024-05-11T16:16:46.851715Z",
     "iopub.status.idle": "2024-05-11T16:16:46.857375Z",
     "shell.execute_reply.started": "2024-05-11T16:16:46.851676Z",
     "shell.execute_reply": "2024-05-11T16:16:46.856359Z"
    },
    "trusted": true
   },
   "execution_count": 30,
   "outputs": []
  },
  {
   "cell_type": "code",
   "source": "# save model\ntorch.save(model.state_dict(), 'cnnmodified.ckpt')",
   "metadata": {
    "id": "mzuFYmcElB2D",
    "execution": {
     "iopub.status.busy": "2024-05-11T16:16:46.858626Z",
     "iopub.execute_input": "2024-05-11T16:16:46.858928Z",
     "iopub.status.idle": "2024-05-11T16:16:46.882539Z",
     "shell.execute_reply.started": "2024-05-11T16:16:46.858902Z",
     "shell.execute_reply": "2024-05-11T16:16:46.881803Z"
    },
    "trusted": true
   },
   "execution_count": 31,
   "outputs": []
  }
 ]
}
